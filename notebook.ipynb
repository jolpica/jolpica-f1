{
 "cells": [
  {
   "cell_type": "code",
   "execution_count": 1,
   "metadata": {},
   "outputs": [],
   "source": [
    "import os\n",
    "\n",
    "import django\n",
    "\n",
    "os.environ.setdefault(\"DJANGO_SETTINGS_MODULE\", \"jolpica_api.settings\")\n",
    "os.environ[\"DJANGO_ALLOW_ASYNC_UNSAFE\"] = \"true\"\n",
    "django.setup()\n",
    "from django.db.models import Count, F, Max, Q, Sum\n",
    "from jolpica.ergast.models import (\n",
    "    Circuits,\n",
    "    ConstructorResults,\n",
    "    Constructors,\n",
    "    Drivers,\n",
    "    DriverStandings,\n",
    "    LapTimes,\n",
    "    PitStops,\n",
    "    Qualifying,\n",
    "    Races,\n",
    "    Results,\n",
    "    Seasons,\n",
    "    SprintResults,\n",
    "    Status,\n",
    ")\n",
    "from jolpica.formula_one.import_from_ergast import run_import\n",
    "from jolpica.formula_one.models import (\n",
    "    Circuit,\n",
    "    Driver,\n",
    "    Lap,\n",
    "    PitStop,\n",
    "    PointSystem,\n",
    "    Race,\n",
    "    RaceEntry,\n",
    "    Season,\n",
    "    Session,\n",
    "    SessionEntry,\n",
    "    SessionStatus,\n",
    "    SessionType,\n",
    "    Team,\n",
    "    TeamDriver,\n",
    ")"
   ]
  },
  {
   "cell_type": "code",
   "execution_count": null,
   "metadata": {},
   "outputs": [],
   "source": []
  }
 ],
 "metadata": {
  "kernelspec": {
   "display_name": ".venv",
   "language": "python",
   "name": "python3"
  },
  "language_info": {
   "codemirror_mode": {
    "name": "ipython",
    "version": 3
   },
   "file_extension": ".py",
   "mimetype": "text/x-python",
   "name": "python",
   "nbconvert_exporter": "python",
   "pygments_lexer": "ipython3",
   "version": "3.10.13"
  }
 },
 "nbformat": 4,
 "nbformat_minor": 2
}
