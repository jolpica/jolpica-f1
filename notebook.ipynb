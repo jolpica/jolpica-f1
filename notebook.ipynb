{
 "cells": [
  {
   "cell_type": "code",
   "execution_count": 1,
   "metadata": {},
   "outputs": [],
   "source": [
    "import os, django\n",
    "\n",
    "os.environ.setdefault(\"DJANGO_SETTINGS_MODULE\", \"formulastat.settings\")\n",
    "os.environ[\"DJANGO_ALLOW_ASYNC_UNSAFE\"] = \"true\"\n",
    "django.setup()\n",
    "from django.db.models import Q, F, Max\n",
    "from formulastat.ergast.models import (\n",
    "    Circuits,\n",
    "    ConstructorResults,\n",
    "    Constructors,\n",
    "    Drivers,\n",
    "    LapTimes,\n",
    "    PitStops,\n",
    "    Qualifying,\n",
    "    Races,\n",
    "    Results,\n",
    "    Seasons,\n",
    "    SprintResults,\n",
    "    Status,\n",
    ")\n",
    "from formulastat.formula_one.models import (\n",
    "    Circuit,\n",
    "    Driver,\n",
    "    Lap,\n",
    "    TeamDriver,\n",
    "    PitStop,\n",
    "    PointScheme,\n",
    "    Race,\n",
    "    RaceEntry,\n",
    "    Season,\n",
    "    Session,\n",
    "    SessionEntry,\n",
    "    SessionStatus,\n",
    "    SessionType,\n",
    "    Team,\n",
    ")\n",
    "from formulastat.formula_one.import_from_ergast import run_import"
   ]
  },
  {
   "cell_type": "code",
   "execution_count": 2,
   "metadata": {},
   "outputs": [
    {
     "name": "stdout",
     "output_type": "stream",
     "text": [
      "Installed 23 object(s) from 1 fixture(s)\n"
     ]
    },
    {
     "name": "stderr",
     "output_type": "stream",
     "text": [
      "100%|██████████| 1101/1101 [00:00<00:00, 10498.44it/s]\n",
      "100%|██████████| 74/74 [00:00<00:00, 1156.96it/s]\n",
      "100%|██████████| 210/210 [00:00<00:00, 689.85it/s]\n",
      "100%|██████████| 858/858 [00:01<00:00, 642.71it/s]\n",
      "100%|██████████| 1101/1101 [00:06<00:00, 158.47it/s]\n",
      "100%|██████████| 26180/26180 [06:15<00:00, 69.72it/s] \n"
     ]
    }
   ],
   "source": [
    "run_import()"
   ]
  },
  {
   "cell_type": "code",
   "execution_count": 19,
   "metadata": {},
   "outputs": [
    {
     "data": {
      "text/plain": [
       "<QuerySet [<Season: 2001>, <Season: 2003>, <Season: 2004>, <Season: 2005>, <Season: 2006>, <Season: 2007>, <Season: 2008>, <Season: 2009>, <Season: 2010>, <Season: 2011>, <Season: 2012>, <Season: 2013>, <Season: 2014>, <Season: 2015>, <Season: 2016>, <Season: 2017>, <Season: 2018>, <Season: 2021>, <Season: 2022>, <Season: 2023>]>"
      ]
     },
     "execution_count": 19,
     "metadata": {},
     "output_type": "execute_result"
    }
   ],
   "source": [
    "Season.objects.all(\n",
    "    ).filter(\n",
    "        Q(team_drivers__driver__reference=\"alonso\") & Q(team_drivers__driver__reference=\"\") &\n",
    "            (Q(races__sessions__session_entries__grid=1) & Q(races__sessions__type=SessionType.RACE))\n",
    "    ).distinct()"
   ]
  },
  {
   "cell_type": "code",
   "execution_count": 20,
   "metadata": {},
   "outputs": [
    {
     "data": {
      "text/plain": [
       "<QuerySet [<SessionEntry: 1950 British Grand Prix - Race - Alfa Romeo Nino Farina 1950 - 1950 British Grand Prix>, <SessionEntry: 1950 Monaco Grand Prix - Race - Alfa Romeo Juan Fangio 1950 - 1950 Monaco Grand Prix>, <SessionEntry: 1950 Indianapolis 500 - Race - Kurtis Kraft Walt Faulkner 1950 - 1950 Indianapolis 500>, <SessionEntry: 1950 Swiss Grand Prix - Race - Alfa Romeo Juan Fangio 1950 - 1950 Swiss Grand Prix>, <SessionEntry: 1950 Belgian Grand Prix - Race - Alfa Romeo Nino Farina 1950 - 1950 Belgian Grand Prix>, <SessionEntry: 1950 French Grand Prix - Race - Alfa Romeo Juan Fangio 1950 - 1950 French Grand Prix>, <SessionEntry: 1950 Italian Grand Prix - Race - Alfa Romeo Juan Fangio 1950 - 1950 Italian Grand Prix>, <SessionEntry: 1951 Swiss Grand Prix - Race - Alfa Romeo Juan Fangio 1951 - 1951 Swiss Grand Prix>, <SessionEntry: 1951 Indianapolis 500 - Race - Kurtis Kraft Duke Nalon 1951 - 1951 Indianapolis 500>, <SessionEntry: 1951 Belgian Grand Prix - Race - Alfa Romeo Juan Fangio 1951 - 1951 Belgian Grand Prix>, <SessionEntry: 1951 French Grand Prix - Race - Alfa Romeo Juan Fangio 1951 - 1951 French Grand Prix>, <SessionEntry: 1951 French Grand Prix - Race - Alfa Romeo Luigi Fagioli 1951 - 1951 French Grand Prix>, <SessionEntry: 1951 British Grand Prix - Race - Ferrari José Froilán González 1951 - 1951 British Grand Prix>, <SessionEntry: 1951 German Grand Prix - Race - Ferrari Alberto Ascari 1951 - 1951 German Grand Prix>, <SessionEntry: 1951 Italian Grand Prix - Race - Alfa Romeo Juan Fangio 1951 - 1951 Italian Grand Prix>, <SessionEntry: 1951 Spanish Grand Prix - Race - Ferrari Alberto Ascari 1951 - 1951 Spanish Grand Prix>, <SessionEntry: 1952 Swiss Grand Prix - Race - Ferrari Nino Farina 1952 - 1952 Swiss Grand Prix>, <SessionEntry: 1952 Indianapolis 500 - Race - Kurtis Kraft Fred Agabashian 1952 - 1952 Indianapolis 500>, <SessionEntry: 1952 Belgian Grand Prix - Race - Ferrari Alberto Ascari 1952 - 1952 Belgian Grand Prix>, <SessionEntry: 1952 French Grand Prix - Race - Ferrari Alberto Ascari 1952 - 1952 French Grand Prix>, '...(remaining elements truncated)...']>"
      ]
     },
     "execution_count": 20,
     "metadata": {},
     "output_type": "execute_result"
    }
   ],
   "source": [
    "SessionEntry.objects.filter(grid=1)"
   ]
  },
  {
   "cell_type": "code",
   "execution_count": 33,
   "metadata": {},
   "outputs": [
    {
     "data": {
      "text/plain": [
       "<QuerySet []>"
      ]
     },
     "execution_count": 33,
     "metadata": {},
     "output_type": "execute_result"
    }
   ],
   "source": [
    "class dummy:\n",
    "    kwargs = {}\n",
    "self = dummy()\n",
    "self.kwargs = {\n",
    "    \"driver_ref\": \"piastri\",\n",
    "    # \"team_ref\": \"renault\",\n",
    "    \"grid_position\": 1,\n",
    "}\n",
    "\n",
    "queryset = Season.objects.all()\n",
    "filters = Q()\n",
    "if self.kwargs.get(\"circuit_ref\"):\n",
    "    filters = filters & Q(races__circuit__reference=self.kwargs[\"circuit_ref\"])\n",
    "if self.kwargs.get(\"team_ref\"):\n",
    "    filters = filters & Q(team_drivers__team__reference=self.kwargs[\"team_ref\"])\n",
    "if self.kwargs.get(\"driver_ref\"):\n",
    "    filters = filters & Q(team_drivers__driver__reference=self.kwargs[\"driver_ref\"])\n",
    "if self.kwargs.get(\"grid_position\"):\n",
    "    filters = (filters & Q(team_drivers__race_entries__session_entries__grid=self.kwargs[\"grid_position\"])\n",
    "               & Q(team_drivers__race_entries__session_entries__session__type=SessionType.RACE)\n",
    "    )\n",
    "queryset.filter(filters).order_by(\"year\").distinct()"
   ]
  },
  {
   "cell_type": "code",
   "execution_count": null,
   "metadata": {},
   "outputs": [],
   "source": []
  },
  {
   "cell_type": "code",
   "execution_count": null,
   "metadata": {},
   "outputs": [],
   "source": []
  }
 ],
 "metadata": {
  "kernelspec": {
   "display_name": ".venv",
   "language": "python",
   "name": "python3"
  },
  "language_info": {
   "codemirror_mode": {
    "name": "ipython",
    "version": 3
   },
   "file_extension": ".py",
   "mimetype": "text/x-python",
   "name": "python",
   "nbconvert_exporter": "python",
   "pygments_lexer": "ipython3",
   "version": "3.10.13"
  }
 },
 "nbformat": 4,
 "nbformat_minor": 2
}
