{
 "cells": [
  {
   "cell_type": "code",
   "execution_count": 1,
   "metadata": {},
   "outputs": [],
   "source": [
    "import os, django\n",
    "\n",
    "os.environ.setdefault(\"DJANGO_SETTINGS_MODULE\", \"formulastat.settings\")\n",
    "os.environ[\"DJANGO_ALLOW_ASYNC_UNSAFE\"] = \"true\"\n",
    "django.setup()\n",
    "from django.db.models import Q, F, Max\n",
    "from formulastat.ergast.models import (\n",
    "    Circuits,\n",
    "    ConstructorResults,\n",
    "    Constructors,\n",
    "    Drivers,\n",
    "    LapTimes,\n",
    "    PitStops,\n",
    "    Qualifying,\n",
    "    Races,\n",
    "    Results,\n",
    "    Seasons,\n",
    "    SprintResults,\n",
    "    Status,\n",
    ")\n",
    "from formulastat.formula_one.models import (\n",
    "    Circuit,\n",
    "    Driver,\n",
    "    Lap,\n",
    "    PitStop,\n",
    "    PointScheme,\n",
    "    Race,\n",
    "    RaceEntry,\n",
    "    Season,\n",
    "    Session,\n",
    "    SessionEntry,\n",
    "    SessionStatus,\n",
    "    SessionType,\n",
    "    Team,\n",
    ")\n",
    "from formulastat.formula_one.import_from_ergast import run_import"
   ]
  },
  {
   "cell_type": "code",
   "execution_count": null,
   "metadata": {},
   "outputs": [],
   "source": []
  },
  {
   "cell_type": "code",
   "execution_count": null,
   "metadata": {},
   "outputs": [],
   "source": []
  }
 ],
 "metadata": {
  "kernelspec": {
   "display_name": ".venv",
   "language": "python",
   "name": "python3"
  },
  "language_info": {
   "codemirror_mode": {
    "name": "ipython",
    "version": 3
   },
   "file_extension": ".py",
   "mimetype": "text/x-python",
   "name": "python",
   "nbconvert_exporter": "python",
   "pygments_lexer": "ipython3",
   "version": "3.10.13"
  }
 },
 "nbformat": 4,
 "nbformat_minor": 2
}
