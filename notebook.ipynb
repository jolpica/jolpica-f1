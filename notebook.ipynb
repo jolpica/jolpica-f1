{
 "cells": [
  {
   "cell_type": "code",
   "execution_count": 1,
   "metadata": {},
   "outputs": [],
   "source": [
    "import os, django\n",
    "\n",
    "os.environ.setdefault(\"DJANGO_SETTINGS_MODULE\", \"formulastat.settings\")\n",
    "os.environ[\"DJANGO_ALLOW_ASYNC_UNSAFE\"] = \"true\"\n",
    "django.setup()\n",
    "from django.db.models import Q, F, Max\n",
    "from formulastat.ergast.models import (\n",
    "    Circuits,\n",
    "    ConstructorResults,\n",
    "    Constructors,\n",
    "    Drivers,\n",
    "    LapTimes,\n",
    "    PitStops,\n",
    "    Qualifying,\n",
    "    Races,\n",
    "    Results,\n",
    "    Seasons,\n",
    "    SprintResults,\n",
    "    Status,\n",
    ")\n",
    "from formulastat.formula_one.models import (\n",
    "    Circuit,\n",
    "    Driver,\n",
    "    Lap,\n",
    "    PitStop,\n",
    "    PointScheme,\n",
    "    Race,\n",
    "    RaceEntry,\n",
    "    Season,\n",
    "    Session,\n",
    "    SessionEntry,\n",
    "    SessionStatus,\n",
    "    SessionType,\n",
    "    Team,\n",
    ")\n",
    "from formulastat.formula_one.import_from_ergast import run_import"
   ]
  },
  {
   "cell_type": "code",
   "execution_count": 2,
   "metadata": {},
   "outputs": [
    {
     "name": "stdout",
     "output_type": "stream",
     "text": [
      "Installed 23 object(s) from 1 fixture(s)\n"
     ]
    },
    {
     "name": "stderr",
     "output_type": "stream",
     "text": [
      "100%|██████████| 1101/1101 [00:00<00:00, 9833.73it/s]\n",
      "100%|██████████| 74/74 [00:00<00:00, 1167.92it/s]\n",
      "100%|██████████| 210/210 [00:00<00:00, 685.78it/s]\n",
      "100%|██████████| 858/858 [00:01<00:00, 639.83it/s]\n",
      "100%|██████████| 1101/1101 [00:07<00:00, 153.12it/s]\n",
      "100%|██████████| 26180/26180 [06:18<00:00, 69.18it/s] \n"
     ]
    }
   ],
   "source": [
    "run_import()"
   ]
  },
  {
   "cell_type": "code",
   "execution_count": null,
   "metadata": {},
   "outputs": [],
   "source": []
  }
 ],
 "metadata": {
  "kernelspec": {
   "display_name": ".venv",
   "language": "python",
   "name": "python3"
  },
  "language_info": {
   "codemirror_mode": {
    "name": "ipython",
    "version": 3
   },
   "file_extension": ".py",
   "mimetype": "text/x-python",
   "name": "python",
   "nbconvert_exporter": "python",
   "pygments_lexer": "ipython3",
   "version": "3.10.13"
  }
 },
 "nbformat": 4,
 "nbformat_minor": 2
}
