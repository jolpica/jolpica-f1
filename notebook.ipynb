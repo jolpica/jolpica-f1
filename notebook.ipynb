{
 "cells": [
  {
   "cell_type": "code",
   "execution_count": 3,
   "metadata": {},
   "outputs": [],
   "source": [
    "import os, django\n",
    "\n",
    "os.environ.setdefault(\"DJANGO_SETTINGS_MODULE\", \"formulastat.settings\")\n",
    "os.environ[\"DJANGO_ALLOW_ASYNC_UNSAFE\"] = \"true\"\n",
    "django.setup()\n",
    "from django.db.models import Q, F, Max\n",
    "from formulastat.ergast.models import (\n",
    "    Circuits,\n",
    "    ConstructorResults,\n",
    "    Constructors,\n",
    "    Drivers,\n",
    "    LapTimes,\n",
    "    PitStops,\n",
    "    Qualifying,\n",
    "    Races,\n",
    "    Results,\n",
    "    Seasons,\n",
    "    SprintResults,\n",
    "    Status,\n",
    "    DriverStandings,\n",
    ")\n",
    "from formulastat.formula_one.models import (\n",
    "    Circuit,\n",
    "    Driver,\n",
    "    Lap,\n",
    "    TeamDriver,\n",
    "    PitStop,\n",
    "    PointScheme,\n",
    "    Race,\n",
    "    RaceEntry,\n",
    "    Season,\n",
    "    Session,\n",
    "    SessionEntry,\n",
    "    SessionStatus,\n",
    "    SessionType,\n",
    "    Team,\n",
    ")\n",
    "from formulastat.formula_one.import_from_ergast import run_import"
   ]
  },
  {
   "cell_type": "code",
   "execution_count": 6,
   "metadata": {},
   "outputs": [
    {
     "name": "stdout",
     "output_type": "stream",
     "text": [
      "Installed 23 object(s) from 1 fixture(s)\n"
     ]
    },
    {
     "name": "stderr",
     "output_type": "stream",
     "text": [
      "100%|██████████| 1101/1101 [00:00<00:00, 6668.52it/s]\n",
      "100%|██████████| 74/74 [00:00<00:00, 931.43it/s]\n",
      "100%|██████████| 210/210 [00:00<00:00, 554.48it/s]\n",
      "100%|██████████| 858/858 [00:01<00:00, 495.16it/s]\n",
      "100%|██████████| 1101/1101 [00:09<00:00, 117.05it/s]\n",
      "100%|██████████| 26180/26180 [08:26<00:00, 51.71it/s]\n"
     ]
    }
   ],
   "source": [
    "run_import()"
   ]
  },
  {
   "cell_type": "code",
   "execution_count": 19,
   "metadata": {},
   "outputs": [
    {
     "data": {
      "text/plain": [
       "<QuerySet [<Season: 2001>, <Season: 2003>, <Season: 2004>, <Season: 2005>, <Season: 2006>, <Season: 2007>, <Season: 2008>, <Season: 2009>, <Season: 2010>, <Season: 2011>, <Season: 2012>, <Season: 2013>, <Season: 2014>, <Season: 2015>, <Season: 2016>, <Season: 2017>, <Season: 2018>, <Season: 2021>, <Season: 2022>, <Season: 2023>]>"
      ]
     },
     "execution_count": 19,
     "metadata": {},
     "output_type": "execute_result"
    }
   ],
   "source": [
    "Season.objects.all(\n",
    "    ).filter(\n",
    "        Q(team_drivers__driver__reference=\"alonso\") & Q(team_drivers__driver__reference=\"\") &\n",
    "            (Q(races__sessions__session_entries__grid=1) & Q(races__sessions__type=SessionType.RACE))\n",
    "    ).distinct()"
   ]
  },
  {
   "cell_type": "code",
   "execution_count": 20,
   "metadata": {},
   "outputs": [
    {
     "data": {
      "text/plain": [
       "<QuerySet [<SessionEntry: 1950 British Grand Prix - Race - Alfa Romeo Nino Farina 1950 - 1950 British Grand Prix>, <SessionEntry: 1950 Monaco Grand Prix - Race - Alfa Romeo Juan Fangio 1950 - 1950 Monaco Grand Prix>, <SessionEntry: 1950 Indianapolis 500 - Race - Kurtis Kraft Walt Faulkner 1950 - 1950 Indianapolis 500>, <SessionEntry: 1950 Swiss Grand Prix - Race - Alfa Romeo Juan Fangio 1950 - 1950 Swiss Grand Prix>, <SessionEntry: 1950 Belgian Grand Prix - Race - Alfa Romeo Nino Farina 1950 - 1950 Belgian Grand Prix>, <SessionEntry: 1950 French Grand Prix - Race - Alfa Romeo Juan Fangio 1950 - 1950 French Grand Prix>, <SessionEntry: 1950 Italian Grand Prix - Race - Alfa Romeo Juan Fangio 1950 - 1950 Italian Grand Prix>, <SessionEntry: 1951 Swiss Grand Prix - Race - Alfa Romeo Juan Fangio 1951 - 1951 Swiss Grand Prix>, <SessionEntry: 1951 Indianapolis 500 - Race - Kurtis Kraft Duke Nalon 1951 - 1951 Indianapolis 500>, <SessionEntry: 1951 Belgian Grand Prix - Race - Alfa Romeo Juan Fangio 1951 - 1951 Belgian Grand Prix>, <SessionEntry: 1951 French Grand Prix - Race - Alfa Romeo Juan Fangio 1951 - 1951 French Grand Prix>, <SessionEntry: 1951 French Grand Prix - Race - Alfa Romeo Luigi Fagioli 1951 - 1951 French Grand Prix>, <SessionEntry: 1951 British Grand Prix - Race - Ferrari José Froilán González 1951 - 1951 British Grand Prix>, <SessionEntry: 1951 German Grand Prix - Race - Ferrari Alberto Ascari 1951 - 1951 German Grand Prix>, <SessionEntry: 1951 Italian Grand Prix - Race - Alfa Romeo Juan Fangio 1951 - 1951 Italian Grand Prix>, <SessionEntry: 1951 Spanish Grand Prix - Race - Ferrari Alberto Ascari 1951 - 1951 Spanish Grand Prix>, <SessionEntry: 1952 Swiss Grand Prix - Race - Ferrari Nino Farina 1952 - 1952 Swiss Grand Prix>, <SessionEntry: 1952 Indianapolis 500 - Race - Kurtis Kraft Fred Agabashian 1952 - 1952 Indianapolis 500>, <SessionEntry: 1952 Belgian Grand Prix - Race - Ferrari Alberto Ascari 1952 - 1952 Belgian Grand Prix>, <SessionEntry: 1952 French Grand Prix - Race - Ferrari Alberto Ascari 1952 - 1952 French Grand Prix>, '...(remaining elements truncated)...']>"
      ]
     },
     "execution_count": 20,
     "metadata": {},
     "output_type": "execute_result"
    }
   ],
   "source": [
    "SessionEntry.objects.filter(grid=1)"
   ]
  },
  {
   "cell_type": "code",
   "execution_count": 33,
   "metadata": {},
   "outputs": [
    {
     "data": {
      "text/plain": [
       "<QuerySet []>"
      ]
     },
     "execution_count": 33,
     "metadata": {},
     "output_type": "execute_result"
    }
   ],
   "source": [
    "class dummy:\n",
    "    kwargs = {}\n",
    "self = dummy()\n",
    "self.kwargs = {\n",
    "    \"driver_ref\": \"piastri\",\n",
    "    # \"team_ref\": \"renault\",\n",
    "    \"grid_position\": 1,\n",
    "}\n",
    "\n",
    "queryset = Season.objects.all()\n",
    "filters = Q()\n",
    "if self.kwargs.get(\"circuit_ref\"):\n",
    "    filters = filters & Q(races__circuit__reference=self.kwargs[\"circuit_ref\"])\n",
    "if self.kwargs.get(\"team_ref\"):\n",
    "    filters = filters & Q(team_drivers__team__reference=self.kwargs[\"team_ref\"])\n",
    "if self.kwargs.get(\"driver_ref\"):\n",
    "    filters = filters & Q(team_drivers__driver__reference=self.kwargs[\"driver_ref\"])\n",
    "if self.kwargs.get(\"grid_position\"):\n",
    "    filters = (filters & Q(team_drivers__race_entries__session_entries__grid=self.kwargs[\"grid_position\"])\n",
    "               & Q(team_drivers__race_entries__session_entries__session__type=SessionType.RACE)\n",
    "    )\n",
    "queryset.filter(filters).order_by(\"year\").distinct()"
   ]
  },
  {
   "cell_type": "code",
   "execution_count": null,
   "metadata": {},
   "outputs": [],
   "source": []
  },
  {
   "cell_type": "code",
   "execution_count": 1,
   "metadata": {},
   "outputs": [
    {
     "data": {
      "text/plain": [
       "['string', '172.31.24.28']"
      ]
     },
     "execution_count": 1,
     "metadata": {},
     "output_type": "execute_result"
    }
   ],
   "source": [
    "ALLOWED_HOSTS = [\"string\"]\n",
    "ALLOWED_HOSTS += [\"172.31.24.28\"]\n",
    "ALLOWED_HOSTS"
   ]
  },
  {
   "cell_type": "code",
   "execution_count": 3,
   "metadata": {},
   "outputs": [
    {
     "data": {
      "text/plain": [
       "<QuerySet []>"
      ]
     },
     "execution_count": 3,
     "metadata": {},
     "output_type": "execute_result"
    }
   ],
   "source": [
    "Race.objects.filter(season__year=2022, round__lte=1)"
   ]
  },
  {
   "cell_type": "code",
   "execution_count": 5,
   "metadata": {},
   "outputs": [
    {
     "data": {
      "text/plain": [
       "<QuerySet [<Races: 1950 British Grand Prix>, <Races: 1950 Monaco Grand Prix>, <Races: 1950 Indianapolis 500>, <Races: 1950 Swiss Grand Prix>, <Races: 1950 Belgian Grand Prix>, <Races: 1950 French Grand Prix>, <Races: 1950 Italian Grand Prix>, <Races: 1951 Swiss Grand Prix>, <Races: 1951 Indianapolis 500>, <Races: 1951 Belgian Grand Prix>, <Races: 1951 French Grand Prix>, <Races: 1951 British Grand Prix>, <Races: 1951 German Grand Prix>, <Races: 1951 Italian Grand Prix>, <Races: 1951 Spanish Grand Prix>, <Races: 1952 Swiss Grand Prix>, <Races: 1952 Indianapolis 500>, <Races: 1952 Belgian Grand Prix>, <Races: 1952 French Grand Prix>, <Races: 1952 British Grand Prix>, '...(remaining elements truncated)...']>"
      ]
     },
     "execution_count": 5,
     "metadata": {},
     "output_type": "execute_result"
    }
   ],
   "source": []
  },
  {
   "cell_type": "code",
   "execution_count": 12,
   "metadata": {},
   "outputs": [
    {
     "data": {
      "text/plain": [
       "{1: 'Finished',\n",
       " 2: 'Disqualified',\n",
       " 3: 'Accident',\n",
       " 4: 'Collision',\n",
       " 5: 'Engine',\n",
       " 6: 'Gearbox',\n",
       " 7: 'Transmission',\n",
       " 8: 'Clutch',\n",
       " 9: 'Hydraulics',\n",
       " 10: 'Electrical',\n",
       " 11: '+1 Lap',\n",
       " 12: '+2 Laps',\n",
       " 13: '+3 Laps',\n",
       " 14: '+4 Laps',\n",
       " 15: '+5 Laps',\n",
       " 16: '+6 Laps',\n",
       " 17: '+7 Laps',\n",
       " 18: '+8 Laps',\n",
       " 19: '+9 Laps',\n",
       " 20: 'Spun off',\n",
       " 21: 'Radiator',\n",
       " 22: 'Suspension',\n",
       " 23: 'Brakes',\n",
       " 24: 'Differential',\n",
       " 25: 'Overheating',\n",
       " 26: 'Mechanical',\n",
       " 27: 'Tyre',\n",
       " 28: 'Driver Seat',\n",
       " 29: 'Puncture',\n",
       " 30: 'Driveshaft',\n",
       " 31: 'Retired',\n",
       " 32: 'Fuel pressure',\n",
       " 33: 'Front wing',\n",
       " 34: 'Water pressure',\n",
       " 35: 'Refuelling',\n",
       " 36: 'Wheel',\n",
       " 37: 'Throttle',\n",
       " 38: 'Steering',\n",
       " 39: 'Technical',\n",
       " 40: 'Electronics',\n",
       " 41: 'Broken wing',\n",
       " 42: 'Heat shield fire',\n",
       " 43: 'Exhaust',\n",
       " 44: 'Oil leak',\n",
       " 45: '+11 Laps',\n",
       " 46: 'Wheel rim',\n",
       " 47: 'Water leak',\n",
       " 48: 'Fuel pump',\n",
       " 49: 'Track rod',\n",
       " 50: '+17 Laps',\n",
       " 51: 'Oil pressure',\n",
       " 53: '+13 Laps',\n",
       " 54: 'Withdrew',\n",
       " 55: '+12 Laps',\n",
       " 56: 'Engine fire',\n",
       " 58: '+26 Laps',\n",
       " 59: 'Tyre puncture',\n",
       " 60: 'Out of fuel',\n",
       " 61: 'Wheel nut',\n",
       " 62: 'Not classified',\n",
       " 63: 'Pneumatics',\n",
       " 64: 'Handling',\n",
       " 65: 'Rear wing',\n",
       " 66: 'Fire',\n",
       " 67: 'Wheel bearing',\n",
       " 68: 'Physical',\n",
       " 69: 'Fuel system',\n",
       " 70: 'Oil line',\n",
       " 71: 'Fuel rig',\n",
       " 72: 'Launch control',\n",
       " 73: 'Injured',\n",
       " 74: 'Fuel',\n",
       " 75: 'Power loss',\n",
       " 76: 'Vibrations',\n",
       " 77: '107% Rule',\n",
       " 78: 'Safety',\n",
       " 79: 'Drivetrain',\n",
       " 80: 'Ignition',\n",
       " 81: 'Did not qualify',\n",
       " 82: 'Injury',\n",
       " 83: 'Chassis',\n",
       " 84: 'Battery',\n",
       " 85: 'Stalled',\n",
       " 86: 'Halfshaft',\n",
       " 87: 'Crankshaft',\n",
       " 88: '+10 Laps',\n",
       " 89: 'Safety concerns',\n",
       " 90: 'Not restarted',\n",
       " 91: 'Alternator',\n",
       " 92: 'Underweight',\n",
       " 93: 'Safety belt',\n",
       " 94: 'Oil pump',\n",
       " 95: 'Fuel leak',\n",
       " 96: 'Excluded',\n",
       " 97: 'Did not prequalify',\n",
       " 98: 'Injection',\n",
       " 99: 'Distributor',\n",
       " 100: 'Driver unwell',\n",
       " 101: 'Turbo',\n",
       " 102: 'CV joint',\n",
       " 103: 'Water pump',\n",
       " 104: 'Fatal accident',\n",
       " 105: 'Spark plugs',\n",
       " 106: 'Fuel pipe',\n",
       " 107: 'Eye injury',\n",
       " 108: 'Oil pipe',\n",
       " 109: 'Axle',\n",
       " 110: 'Water pipe',\n",
       " 111: '+14 Laps',\n",
       " 112: '+15 Laps',\n",
       " 113: '+25 Laps',\n",
       " 114: '+18 Laps',\n",
       " 115: '+22 Laps',\n",
       " 116: '+16 Laps',\n",
       " 117: '+24 Laps',\n",
       " 118: '+29 Laps',\n",
       " 119: '+23 Laps',\n",
       " 120: '+21 Laps',\n",
       " 121: 'Magneto',\n",
       " 122: '+44 Laps',\n",
       " 123: '+30 Laps',\n",
       " 124: '+19 Laps',\n",
       " 125: '+46 Laps',\n",
       " 126: 'Supercharger',\n",
       " 127: '+20 Laps',\n",
       " 128: '+42 Laps',\n",
       " 129: 'Engine misfire',\n",
       " 130: 'Collision damage',\n",
       " 131: 'Power Unit',\n",
       " 132: 'ERS',\n",
       " 133: '+49 Laps',\n",
       " 134: '+38 Laps',\n",
       " 135: 'Brake duct',\n",
       " 136: 'Seat',\n",
       " 137: 'Damage',\n",
       " 138: 'Debris',\n",
       " 139: 'Illness',\n",
       " 140: 'Undertray',\n",
       " 141: 'Cooling system'}"
      ]
     },
     "execution_count": 12,
     "metadata": {},
     "output_type": "execute_result"
    }
   ],
   "source": [
    "dict(Status.objects.all().order_by(\"statusId\").values_list())"
   ]
  },
  {
   "cell_type": "markdown",
   "metadata": {},
   "source": [
    "# Driver Standings"
   ]
  },
  {
   "cell_type": "code",
   "execution_count": 16,
   "metadata": {},
   "outputs": [],
   "source": [
    "# Max verstappen at 2023 Bahrain Grand Prix\n",
    "race_entry = RaceEntry.objects.get(pk=25841)\n",
    "driver_standings = DriverStandings.objects.get(pk=72006)"
   ]
  },
  {
   "cell_type": "code",
   "execution_count": 25,
   "metadata": {},
   "outputs": [
    {
     "data": {
      "text/plain": [
       "True"
      ]
     },
     "execution_count": 25,
     "metadata": {},
     "output_type": "execute_result"
    }
   ],
   "source": [
    "from django.db.models import Sum\n",
    "def race_points(race_entry: RaceEntry) -> float:\n",
    "    points = race_entry.session_entries.aggregate(\n",
    "        race_points = Sum(\"points\")\n",
    "    )[\"race_points\"]\n",
    "    return points\n",
    "\n",
    "race_points(race_entry) == driver_standings.points"
   ]
  },
  {
   "cell_type": "code",
   "execution_count": 31,
   "metadata": {},
   "outputs": [],
   "source": [
    "# Max verstappen at 2023 Bahrain Grand Prix\n",
    "race_entries = RaceEntry.objects.filter(pk__in=(25841,25862))\n",
    "driver_standings = DriverStandings.objects.get(pk=71886)"
   ]
  },
  {
   "cell_type": "code",
   "execution_count": 5,
   "metadata": {},
   "outputs": [
    {
     "data": {
      "text/plain": [
       "44.0"
      ]
     },
     "execution_count": 5,
     "metadata": {},
     "output_type": "execute_result"
    }
   ],
   "source": [
    "def race_points(race_entry: RaceEntry) -> float:\n",
    "    points = race_entry.session_entries.aggregate(\n",
    "        race_points = Sum(\"points\")\n",
    "    )[\"race_points\"]\n",
    "    return points"
   ]
  },
  {
   "cell_type": "code",
   "execution_count": 40,
   "metadata": {},
   "outputs": [
    {
     "data": {
      "text/plain": [
       "<QuerySet [{'id': 25861, 'race_id': 1081, 'team_driver_id': 3508, 'car_number': 11, 'total_race_points': 25.0}, {'id': 25862, 'race_id': 1081, 'team_driver_id': 3507, 'car_number': 1, 'total_race_points': 19.0}, {'id': 25863, 'race_id': 1081, 'team_driver_id': 3509, 'car_number': 14, 'total_race_points': 15.0}, {'id': 25864, 'race_id': 1081, 'team_driver_id': 3513, 'car_number': 63, 'total_race_points': 12.0}, {'id': 25865, 'race_id': 1081, 'team_driver_id': 3511, 'car_number': 44, 'total_race_points': 10.0}, {'id': 25866, 'race_id': 1081, 'team_driver_id': 3510, 'car_number': 55, 'total_race_points': 8.0}, {'id': 25867, 'race_id': 1081, 'team_driver_id': 3525, 'car_number': 16, 'total_race_points': 6.0}, {'id': 25868, 'race_id': 1081, 'team_driver_id': 3524, 'car_number': 31, 'total_race_points': 4.0}, {'id': 25869, 'race_id': 1081, 'team_driver_id': 3515, 'car_number': 10, 'total_race_points': 2.0}, {'id': 25870, 'race_id': 1081, 'team_driver_id': 3519, 'car_number': 20, 'total_race_points': 1.0}, {'id': 25871, 'race_id': 1081, 'team_driver_id': 3517, 'car_number': 22, 'total_race_points': 0.0}, {'id': 25872, 'race_id': 1081, 'team_driver_id': 3521, 'car_number': 27, 'total_race_points': 0.0}, {'id': 25873, 'race_id': 1081, 'team_driver_id': 3522, 'car_number': 24, 'total_race_points': 0.0}, {'id': 25874, 'race_id': 1081, 'team_driver_id': 3520, 'car_number': 21, 'total_race_points': 0.0}, {'id': 25875, 'race_id': 1081, 'team_driver_id': 3526, 'car_number': 81, 'total_race_points': 0.0}, {'id': 25876, 'race_id': 1081, 'team_driver_id': 3518, 'car_number': 2, 'total_race_points': 0.0}, {'id': 25877, 'race_id': 1081, 'team_driver_id': 3523, 'car_number': 4, 'total_race_points': 0.0}, {'id': 25878, 'race_id': 1081, 'team_driver_id': 3514, 'car_number': 77, 'total_race_points': 0.0}, {'id': 25879, 'race_id': 1081, 'team_driver_id': 3516, 'car_number': 23, 'total_race_points': 0.0}, {'id': 25880, 'race_id': 1081, 'team_driver_id': 3512, 'car_number': 18, 'total_race_points': 0.0}]>"
      ]
     },
     "execution_count": 40,
     "metadata": {},
     "output_type": "execute_result"
    }
   ],
   "source": [
    "race = race_entries[1].race\n",
    "race.race_entries.annotate(\n",
    "\n",
    ").values()"
   ]
  },
  {
   "cell_type": "code",
   "execution_count": 93,
   "metadata": {},
   "outputs": [
    {
     "data": {
      "text/plain": [
       "<QuerySet [{'year': 2023, 'round': 2, 'driver': 'sainz', 'race_points': 8.0}, {'year': 2023, 'round': 1, 'driver': 'albon', 'race_points': 1.0}, {'year': 2023, 'round': 2, 'driver': 'alonso', 'race_points': 15.0}, {'year': 2023, 'round': 1, 'driver': 'de_vries', 'race_points': 0.0}, {'year': 2023, 'round': 1, 'driver': 'max_verstappen', 'race_points': 25.0}, {'year': 2023, 'round': 1, 'driver': 'bottas', 'race_points': 4.0}, {'year': 2023, 'round': 1, 'driver': 'leclerc', 'race_points': 0.0}, {'year': 2023, 'round': 2, 'driver': 'sargeant', 'race_points': 0.0}, {'year': 2023, 'round': 2, 'driver': 'albon', 'race_points': 0.0}, {'year': 2023, 'round': 2, 'driver': 'kevin_magnussen', 'race_points': 1.0}, {'year': 2023, 'round': 2, 'driver': 'gasly', 'race_points': 2.0}, {'year': 2023, 'round': 2, 'driver': 'bottas', 'race_points': 0.0}, {'year': 2023, 'round': 1, 'driver': 'hulkenberg', 'race_points': 0.0}, {'year': 2023, 'round': 2, 'driver': 'norris', 'race_points': 0.0}, {'year': 2023, 'round': 1, 'driver': 'norris', 'race_points': 0.0}, {'year': 2023, 'round': 1, 'driver': 'hamilton', 'race_points': 10.0}, {'year': 2023, 'round': 2, 'driver': 'stroll', 'race_points': 0.0}, {'year': 2023, 'round': 1, 'driver': 'kevin_magnussen', 'race_points': 0.0}, {'year': 2023, 'round': 1, 'driver': 'zhou', 'race_points': 0.0}, {'year': 2023, 'round': 2, 'driver': 'hulkenberg', 'race_points': 0.0}, '...(remaining elements truncated)...']>"
      ]
     },
     "execution_count": 93,
     "metadata": {},
     "output_type": "execute_result"
    }
   ],
   "source": [
    "from django.contrib.postgres.aggregates import ArrayAgg\n",
    "from django.db.models import ExpressionWrapper, IntegerField\n",
    "race_points = RaceEntry.objects.filter(\n",
    "    race__season=race.season, race__round__lte=race.round, #team_driver__driver__reference=\"max_verstappen\"\n",
    ").annotate(\n",
    "    year=F(\"race__season__year\"),\n",
    "    round=F(\"race__round\"),\n",
    "    driver=F(\"team_driver__driver__reference\"),\n",
    "    race_points = Sum(\"session_entries__points\")\n",
    ").values(\"year\",\"round\", \"driver\", \"race_points\")\n",
    "race_points"
   ]
  },
  {
   "cell_type": "code",
   "execution_count": 94,
   "metadata": {},
   "outputs": [
    {
     "data": {
      "text/plain": [
       "40"
      ]
     },
     "execution_count": 94,
     "metadata": {},
     "output_type": "execute_result"
    }
   ],
   "source": [
    "race_points.count()\n",
    "\n",
    "# Given Race\n",
    "# - need all previous races\n",
    "# - total points for all previous races\n",
    "# round, driver, race_points"
   ]
  },
  {
   "cell_type": "code",
   "execution_count": 15,
   "metadata": {},
   "outputs": [
    {
     "data": {
      "text/plain": [
       "72006"
      ]
     },
     "execution_count": 15,
     "metadata": {},
     "output_type": "execute_result"
    }
   ],
   "source": [
    "DriverStandings.objects.filter(raceId__round__lte=1, raceId__year_id=2023).order_by(\"-points\")[0].pk"
   ]
  },
  {
   "cell_type": "code",
   "execution_count": 17,
   "metadata": {},
   "outputs": [
    {
     "data": {
      "text/plain": [
       "25.0"
      ]
     },
     "execution_count": 17,
     "metadata": {},
     "output_type": "execute_result"
    }
   ],
   "source": [
    "driver_standings.points"
   ]
  },
  {
   "cell_type": "code",
   "execution_count": null,
   "metadata": {},
   "outputs": [],
   "source": []
  }
 ],
 "metadata": {
  "kernelspec": {
   "display_name": ".venv",
   "language": "python",
   "name": "python3"
  },
  "language_info": {
   "codemirror_mode": {
    "name": "ipython",
    "version": 3
   },
   "file_extension": ".py",
   "mimetype": "text/x-python",
   "name": "python",
   "nbconvert_exporter": "python",
   "pygments_lexer": "ipython3",
   "version": "3.10.13"
  }
 },
 "nbformat": 4,
 "nbformat_minor": 2
}
